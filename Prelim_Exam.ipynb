{
  "cells": [
    {
      "cell_type": "markdown",
      "metadata": {
        "id": "view-in-github",
        "colab_type": "text"
      },
      "source": [
        "<a href=\"https://colab.research.google.com/github/Kylerovic11/58013-Linear-Algebra/blob/main/Prelim_Exam.ipynb\" target=\"_parent\"><img src=\"https://colab.research.google.com/assets/colab-badge.svg\" alt=\"Open In Colab\"/></a>"
      ]
    },
    {
      "cell_type": "markdown",
      "source": [
        "Create a Multiplication Table/Chart of 1 to 10 using numpy/ python program"
      ],
      "metadata": {
        "id": "nzORCfRHy90U"
      }
    },
    {
      "cell_type": "code",
      "source": [
        "import numpy as np\n",
        "\n",
        "# Define the range of numbers for the table (1 to 10)\n",
        "start = 1\n",
        "end = 10\n",
        "\n",
        "# Create a NumPy array for the range of numbers\n",
        "numbers = np.arange(start, end + 1)\n",
        "\n",
        "# Initialize an empty 2D NumPy array for the multiplication table\n",
        "table = np.zeros((end, end), dtype=int)\n",
        "\n",
        "# Fill in the multiplication table\n",
        "for i in range(end):\n",
        "    table[i, :] = numbers * (i + 1)\n",
        "\n",
        "# Print the multiplication table\n",
        "for i in range(end):\n",
        "    for j in range(end):\n",
        "        print(f\"{table[i, j]:2d}\", end=\"\\t\")\n",
        "    print()"
      ],
      "metadata": {
        "colab": {
          "base_uri": "https://localhost:8080/"
        },
        "id": "n41nlD2E79zg",
        "outputId": "bcf1bcf9-63d0-4bf5-ea84-88df3a118276"
      },
      "execution_count": 31,
      "outputs": [
        {
          "output_type": "stream",
          "name": "stdout",
          "text": [
            " 1\t 2\t 3\t 4\t 5\t 6\t 7\t 8\t 9\t10\t\n",
            " 2\t 4\t 6\t 8\t10\t12\t14\t16\t18\t20\t\n",
            " 3\t 6\t 9\t12\t15\t18\t21\t24\t27\t30\t\n",
            " 4\t 8\t12\t16\t20\t24\t28\t32\t36\t40\t\n",
            " 5\t10\t15\t20\t25\t30\t35\t40\t45\t50\t\n",
            " 6\t12\t18\t24\t30\t36\t42\t48\t54\t60\t\n",
            " 7\t14\t21\t28\t35\t42\t49\t56\t63\t70\t\n",
            " 8\t16\t24\t32\t40\t48\t56\t64\t72\t80\t\n",
            " 9\t18\t27\t36\t45\t54\t63\t72\t81\t90\t\n",
            "10\t20\t30\t40\t50\t60\t70\t80\t90\t100\t\n"
          ]
        }
      ]
    },
    {
      "cell_type": "markdown",
      "source": [
        "\n",
        "\n",
        "\n",
        "In relation to Question 1, show a solution that doubles all the values of each element."
      ],
      "metadata": {
        "id": "GHR08naY0Rt5"
      }
    },
    {
      "cell_type": "code",
      "source": [
        "import numpy as np\n",
        "\n",
        "# Define the range of numbers for the table (1 to 10)\n",
        "start = 1\n",
        "end = 10\n",
        "\n",
        "# Create a NumPy array for the range of numbers\n",
        "numbers = np.arange(start, end + 1)\n",
        "\n",
        "# Initialize an empty 2D NumPy array for the multiplication table\n",
        "table = np.zeros((end, end), dtype=int)\n",
        "\n",
        "# Fill in the multiplication table\n",
        "for i in range(end):\n",
        "    table[i, :] = numbers * (i + 1)\n",
        "\n",
        "# Double all the values in the table\n",
        "table_doubled = table * 2\n",
        "\n",
        "# Print the doubled multiplication table\n",
        "for i in range(end):\n",
        "    for j in range(end):\n",
        "        print(f\"{table_doubled[i, j]:4d}\", end=\"\\t\")\n",
        "    print()"
      ],
      "metadata": {
        "colab": {
          "base_uri": "https://localhost:8080/"
        },
        "id": "sJvYv4xm0aqY",
        "outputId": "0a3e88a6-b96e-4591-8f3e-17ad79da56dd"
      },
      "execution_count": 33,
      "outputs": [
        {
          "output_type": "stream",
          "name": "stdout",
          "text": [
            "   2\t   4\t   6\t   8\t  10\t  12\t  14\t  16\t  18\t  20\t\n",
            "   4\t   8\t  12\t  16\t  20\t  24\t  28\t  32\t  36\t  40\t\n",
            "   6\t  12\t  18\t  24\t  30\t  36\t  42\t  48\t  54\t  60\t\n",
            "   8\t  16\t  24\t  32\t  40\t  48\t  56\t  64\t  72\t  80\t\n",
            "  10\t  20\t  30\t  40\t  50\t  60\t  70\t  80\t  90\t 100\t\n",
            "  12\t  24\t  36\t  48\t  60\t  72\t  84\t  96\t 108\t 120\t\n",
            "  14\t  28\t  42\t  56\t  70\t  84\t  98\t 112\t 126\t 140\t\n",
            "  16\t  32\t  48\t  64\t  80\t  96\t 112\t 128\t 144\t 160\t\n",
            "  18\t  36\t  54\t  72\t  90\t 108\t 126\t 144\t 162\t 180\t\n",
            "  20\t  40\t  60\t  80\t 100\t 120\t 140\t 160\t 180\t 200\t\n"
          ]
        }
      ]
    },
    {
      "cell_type": "markdown",
      "source": [
        "Create a square matrix that has a diagonal 1's."
      ],
      "metadata": {
        "id": "9W65KO5o0eiA"
      }
    },
    {
      "cell_type": "code",
      "source": [
        "A = np.eye(5,5)\n",
        "print (A)"
      ],
      "metadata": {
        "colab": {
          "base_uri": "https://localhost:8080/"
        },
        "id": "1o6OwiE70iEZ",
        "outputId": "1c5b6a74-006d-4856-bc48-99978854c8b8"
      },
      "execution_count": 21,
      "outputs": [
        {
          "output_type": "stream",
          "name": "stdout",
          "text": [
            "[[1. 0. 0. 0. 0.]\n",
            " [0. 1. 0. 0. 0.]\n",
            " [0. 0. 1. 0. 0.]\n",
            " [0. 0. 0. 1. 0.]\n",
            " [0. 0. 0. 0. 1.]]\n"
          ]
        }
      ]
    },
    {
      "cell_type": "markdown",
      "source": [
        "Create a matrix whose elements are:"
      ],
      "metadata": {
        "id": "OruVZ4Na0lpI"
      }
    },
    {
      "cell_type": "code",
      "source": [
        "matrix = np.array([[1, 2, 3, 4],\n",
        "                   [5, 6, 7, 8],\n",
        "                   [9, 10, 11, 12]])\n",
        "\n",
        "print(\"the matrix size is:\", matrix.size)\n",
        "print(\"the matrix shape is:\", matrix.shape)\n",
        "print(\"the matrix dimention is:\", matrix.ndim)\n",
        ""
      ],
      "metadata": {
        "colab": {
          "base_uri": "https://localhost:8080/"
        },
        "id": "m4990Jw00pSJ",
        "outputId": "f67d7bec-7117-469f-adc7-7cd39a72eb4a"
      },
      "execution_count": 18,
      "outputs": [
        {
          "output_type": "stream",
          "name": "stdout",
          "text": [
            "the matrix size is: 12\n",
            "the matrix shape is: (3, 4)\n",
            "the matrix dimention is: 2\n"
          ]
        }
      ]
    },
    {
      "cell_type": "markdown",
      "source": [
        "Create a result array by adding the following two NumPy arrays. Next, modify the result array by calculating the square of each element."
      ],
      "metadata": {
        "id": "pAeA3_Dy0tjZ"
      }
    },
    {
      "cell_type": "code",
      "source": [
        "import numpy as numpy\n",
        "arrayOne = numpy.array ([[5, 6, 9],[21, 18, 27]])\n",
        "arrayOne = numpy.array ([[15, 33, 24],[4, 7, 1]])\n",
        "\n",
        "sum1 = arrayOne + arrayTwo\n",
        "print (sum1)\n",
        "arrOne = (arrayOne**2)\n",
        "arrTwo = (arrayOne**2)\n",
        "\n"
      ],
      "metadata": {
        "id": "9AiW4U7N0uWI"
      },
      "execution_count": 25,
      "outputs": []
    },
    {
      "cell_type": "code",
      "source": [
        "import numpy as np\n",
        "\n",
        "# Create two NumPy arrays\n",
        "arrayOne = numpy.array ([[5, 6, 9],[21, 18, 27]])\n",
        "arrayOne = numpy.array ([[15, 33, 24],[4, 7, 1]])\n",
        "\n",
        "# Add the two arrays\n",
        "result_array = array1 + array2\n",
        "\n",
        "# Calculate the square of each element in the result array\n",
        "result_array_squared = np.square(result_array)\n",
        "\n",
        "print(result_array_squared)\n"
      ],
      "metadata": {
        "colab": {
          "base_uri": "https://localhost:8080/"
        },
        "id": "ZSBjR0tE64PB",
        "outputId": "dc0174cb-be33-4a12-c44e-b9b0f2bf2b49"
      },
      "execution_count": 30,
      "outputs": [
        {
          "output_type": "stream",
          "name": "stdout",
          "text": [
            "[25 49 81]\n"
          ]
        }
      ]
    }
  ],
  "metadata": {
    "colab": {
      "toc_visible": true,
      "provenance": [],
      "include_colab_link": true
    },
    "kernelspec": {
      "display_name": "Python 3",
      "name": "python3"
    }
  },
  "nbformat": 4,
  "nbformat_minor": 0
}