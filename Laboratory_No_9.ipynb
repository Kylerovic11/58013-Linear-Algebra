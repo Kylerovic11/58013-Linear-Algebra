{
  "cells": [
    {
      "cell_type": "markdown",
      "metadata": {
        "id": "view-in-github",
        "colab_type": "text"
      },
      "source": [
        "<a href=\"https://colab.research.google.com/github/Kylerovic11/58013-Linear-Algebra/blob/main/Laboratory_No_9.ipynb\" target=\"_parent\"><img src=\"https://colab.research.google.com/assets/colab-badge.svg\" alt=\"Open In Colab\"/></a>"
      ]
    },
    {
      "cell_type": "code",
      "source": [
        "from matplotlib import pyplot as plt\n",
        "import numpy as np\n",
        "%matplotlib inline\n",
        "\n",
        "A = np.array([\n",
        "    [1,4],\n",
        "    [0,3]\n",
        "])\n",
        "print(int(np.linalg.det(A)))\n",
        "\n",
        "## Now other mathematics classes would require you to solve this by hand,\n",
        "## and that is great for practicing your memorization and coordination skills\n",
        "## but in this class we aim for simplicity and speed so we'll use programming\n",
        "## but it's completely fine if you want to try to solve this one by hand.\n",
        "\n",
        "B = np.array([\n",
        "    [1,3,5,6],\n",
        "    [0,3,1,3],\n",
        "    [3,1,8,2],\n",
        "    [5,2,6,8]\n",
        "])\n",
        "print(int(np.linalg.det(B)))\n"
      ],
      "metadata": {
        "colab": {
          "base_uri": "https://localhost:8080/"
        },
        "id": "hOcGSxP9XqU0",
        "outputId": "8d5afe16-4807-494b-de72-6ae90279b0aa"
      },
      "execution_count": 20,
      "outputs": [
        {
          "output_type": "stream",
          "name": "stdout",
          "text": [
            "3\n",
            "-235\n"
          ]
        }
      ]
    },
    {
      "cell_type": "code",
      "source": [
        "import numpy as np\n",
        "x = np.array([[1,2,3],[4,5,6],[7,8,9]])\n",
        "y = np.array([[2,3,3],[4,4,7],[1,1,1]])\n",
        "z = np.array([[2,4,6],[2,5,7],[1,2,2]])\n",
        "print(x, \"\\n\")\n",
        "print(y, \"\\n\")\n",
        "print(z)\n",
        ""
      ],
      "metadata": {
        "colab": {
          "base_uri": "https://localhost:8080/"
        },
        "id": "M2YIp8o6XrVq",
        "outputId": "1d863ea8-8504-4b69-8665-6ed6f49cd1d4"
      },
      "execution_count": 19,
      "outputs": [
        {
          "output_type": "stream",
          "name": "stdout",
          "text": [
            "[[1 2 3]\n",
            " [4 5 6]\n",
            " [7 8 9]] \n",
            "\n",
            "[[2 3 3]\n",
            " [4 4 7]\n",
            " [1 1 1]] \n",
            "\n",
            "[[2 4 6]\n",
            " [2 5 7]\n",
            " [1 2 2]]\n"
          ]
        }
      ]
    },
    {
      "cell_type": "code",
      "source": [
        "a = (x.dot(y)).dot(z)\n",
        "b = x.dot(y.dot(z))\n",
        "\n",
        "print(\"(xy)z =\", \"\\n\", a)\n",
        "print(\"x(yz) =\", \"\\n\",b)\n",
        "print(np.array_equal(a,b))"
      ],
      "metadata": {
        "colab": {
          "base_uri": "https://localhost:8080/"
        },
        "id": "6-4DmlBYXtTL",
        "outputId": "8cdeab85-a1e5-40cd-fc5d-e819eee3e075"
      },
      "execution_count": 22,
      "outputs": [
        {
          "output_type": "stream",
          "name": "stdout",
          "text": [
            "(xy)z = \n",
            " [[ 74 162 216]\n",
            " [197 432 576]\n",
            " [320 702 936]]\n",
            "x(yz) = \n",
            " [[ 74 162 216]\n",
            " [197 432 576]\n",
            " [320 702 936]]\n",
            "True\n"
          ]
        }
      ]
    },
    {
      "cell_type": "code",
      "source": [
        "Scale = 2\n",
        "\n",
        "a = Scale*(z.dot(y))\n",
        "b = (Scale*z).dot(y)\n",
        "\n",
        "print(\"Scale(xy) =\", \"\\n\",a)\n",
        "print(\"(Scale*x)y =\", \"\\n\",b)\n",
        "print(np.array_equal(a,b))"
      ],
      "metadata": {
        "colab": {
          "base_uri": "https://localhost:8080/"
        },
        "id": "h2u99nvdbNmF",
        "outputId": "b369edc2-43b7-45a5-d4fc-3c9753f5afed"
      },
      "execution_count": 21,
      "outputs": [
        {
          "output_type": "stream",
          "name": "stdout",
          "text": [
            "Scale(xy) = \n",
            " [[52 56 80]\n",
            " [62 66 96]\n",
            " [24 26 38]]\n",
            "(Scale*x)y = \n",
            " [[52 56 80]\n",
            " [62 66 96]\n",
            " [24 26 38]]\n",
            "True\n"
          ]
        }
      ]
    }
  ],
  "metadata": {
    "colab": {
      "toc_visible": true,
      "provenance": [],
      "include_colab_link": true
    },
    "kernelspec": {
      "display_name": "Python 3",
      "name": "python3"
    }
  },
  "nbformat": 4,
  "nbformat_minor": 0
}