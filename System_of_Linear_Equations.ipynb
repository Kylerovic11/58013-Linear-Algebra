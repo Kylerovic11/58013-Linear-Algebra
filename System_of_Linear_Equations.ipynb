{
  "cells": [
    {
      "cell_type": "markdown",
      "metadata": {
        "id": "view-in-github",
        "colab_type": "text"
      },
      "source": [
        "<a href=\"https://colab.research.google.com/github/Kylerovic11/58013-Linear-Algebra/blob/main/System_of_Linear_Equations.ipynb\" target=\"_parent\"><img src=\"https://colab.research.google.com/assets/colab-badge.svg\" alt=\"Open In Colab\"/></a>"
      ]
    },
    {
      "cell_type": "code",
      "source": [
        "import numpy as np\n",
        "\n",
        "X = np.array([\n",
        "    [1,1,1],\n",
        "    [3,-2,-1],\n",
        "    [-1,4,2]], dtype=float)\n",
        "Y = np.array([\n",
        "    [1],\n",
        "    [4],\n",
        "    [-3]], dtype=float)\n",
        "print(X)\n",
        "print(X.shape, \"\\n\")\n",
        "print(Y)\n",
        "print(Y.shape)"
      ],
      "metadata": {
        "colab": {
          "base_uri": "https://localhost:8080/"
        },
        "id": "hOcGSxP9XqU0",
        "outputId": "ac619b44-56b8-4d44-86d7-0bf5c737b955"
      },
      "execution_count": 27,
      "outputs": [
        {
          "output_type": "stream",
          "name": "stdout",
          "text": [
            "[[ 1.  1.  1.]\n",
            " [ 3. -2. -1.]\n",
            " [-1.  4.  2.]]\n",
            "(3, 3) \n",
            "\n",
            "[[ 1.]\n",
            " [ 4.]\n",
            " [-3.]]\n",
            "(3, 1)\n"
          ]
        }
      ]
    },
    {
      "cell_type": "code",
      "source": [
        "Supply=np.array([[30,10,120],[40,20,200],[50,40,360]])\n",
        "\n",
        "Cost = np.array([12500,18000,25700])\n",
        "\n",
        "prices = np.linalg.solve(Supply, Cost)\n",
        "flour, yeast, egg = prices\n",
        "\n",
        "print(f\"Price per 1 sack of flour: {flour:.2f} pesos\")\n",
        "print(f\"Price per 1 pack of yeast: {yeast:.2f} pesos\")\n",
        "print(f\"Price per 1 egg: {egg:.2f} pesos\")"
      ],
      "metadata": {
        "colab": {
          "base_uri": "https://localhost:8080/"
        },
        "id": "M2YIp8o6XrVq",
        "outputId": "205b5025-281b-42a4-d646-e439b2db46e4"
      },
      "execution_count": 28,
      "outputs": [
        {
          "output_type": "stream",
          "name": "stdout",
          "text": [
            "Price per 1 sack of flour: 330.00 pesos\n",
            "Price per 1 pack of yeast: 140.00 pesos\n",
            "Price per 1 egg: 10.00 pesos\n"
          ]
        }
      ]
    },
    {
      "cell_type": "code",
      "source": [
        "import numpy\n",
        "A = numpy.array([[2,3,-5],\n",
        "                  [7,1,-2],\n",
        "                  [-3,4,1]])\n",
        "print(A)\n",
        "print(int(numpy.linalg.det(A)))"
      ],
      "metadata": {
        "colab": {
          "base_uri": "https://localhost:8080/"
        },
        "id": "6-4DmlBYXtTL",
        "outputId": "1f4b7007-6009-4514-93f9-bd5ecf812221"
      },
      "execution_count": 25,
      "outputs": [
        {
          "output_type": "stream",
          "name": "stdout",
          "text": [
            "[[ 2  3 -5]\n",
            " [ 7  1 -2]\n",
            " [-3  4  1]]\n",
            "-140\n"
          ]
        }
      ]
    },
    {
      "cell_type": "code",
      "source": [
        "import numpy\n",
        "A = numpy.array([[1,2,-1],\n",
        "                  [4,6,-2],\n",
        "                  [-1,3,3]])\n",
        "print(A)\n",
        "print(int(numpy.linalg.det(A)))"
      ],
      "metadata": {
        "colab": {
          "base_uri": "https://localhost:8080/"
        },
        "id": "h2u99nvdbNmF",
        "outputId": "dbfe9e9c-3b50-4434-af1c-95d1dff3f87f"
      },
      "execution_count": 26,
      "outputs": [
        {
          "output_type": "stream",
          "name": "stdout",
          "text": [
            "[[ 1  2 -1]\n",
            " [ 4  6 -2]\n",
            " [-1  3  3]]\n",
            "-13\n"
          ]
        }
      ]
    }
  ],
  "metadata": {
    "colab": {
      "toc_visible": true,
      "provenance": [],
      "include_colab_link": true
    },
    "kernelspec": {
      "display_name": "Python 3",
      "name": "python3"
    }
  },
  "nbformat": 4,
  "nbformat_minor": 0
}